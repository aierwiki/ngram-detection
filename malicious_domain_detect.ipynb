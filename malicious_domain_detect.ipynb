{
 "cells": [
  {
   "cell_type": "markdown",
   "metadata": {},
   "source": [
    "- 使用ngram进行恶意域名识别\n",
    "- 参考论文：https://www.researchgate.net/publication/330843380_Malicious_Domain_Names_Detection_Algorithm_Based_on_N_-Gram"
   ]
  },
  {
   "cell_type": "code",
   "execution_count": 1,
   "metadata": {},
   "outputs": [],
   "source": [
    "import numpy as np\n",
    "import pandas as pd\n",
    "import tldextract\n",
    "import matplotlib.pyplot as plt\n",
    "import os\n",
    "import re\n",
    "import time\n",
    "from scipy import sparse\n",
    "%matplotlib inline"
   ]
  },
  {
   "cell_type": "markdown",
   "metadata": {},
   "source": [
    "## 加载数据"
   ]
  },
  {
   "cell_type": "markdown",
   "metadata": {},
   "source": [
    "- 加载正常域名"
   ]
  },
  {
   "cell_type": "code",
   "execution_count": 2,
   "metadata": {},
   "outputs": [],
   "source": [
    "df_benign_domain = pd.read_csv('top-1m.csv', index_col=0, header=None).reset_index(drop=True)"
   ]
  },
  {
   "cell_type": "code",
   "execution_count": 3,
   "metadata": {},
   "outputs": [],
   "source": [
    "df_benign_domain.columns = ['domain']"
   ]
  },
  {
   "cell_type": "code",
   "execution_count": 4,
   "metadata": {},
   "outputs": [],
   "source": [
    "df_benign_domain['label'] = 0"
   ]
  },
  {
   "cell_type": "markdown",
   "metadata": {},
   "source": [
    "- 加载恶意域名"
   ]
  },
  {
   "cell_type": "code",
   "execution_count": 5,
   "metadata": {},
   "outputs": [],
   "source": [
    "df_malicious_domain = pd.read_csv('malicious-domain.csv', engine='python', header=None)"
   ]
  },
  {
   "cell_type": "code",
   "execution_count": 6,
   "metadata": {},
   "outputs": [],
   "source": [
    "df_malicious_domain = df_malicious_domain[[1]]"
   ]
  },
  {
   "cell_type": "code",
   "execution_count": 7,
   "metadata": {},
   "outputs": [],
   "source": [
    "df_malicious_domain.columns = ['domain']"
   ]
  },
  {
   "cell_type": "code",
   "execution_count": 8,
   "metadata": {},
   "outputs": [],
   "source": [
    "df_malicious_domain = df_malicious_domain[df_malicious_domain['domain'] != '-']"
   ]
  },
  {
   "cell_type": "code",
   "execution_count": 9,
   "metadata": {},
   "outputs": [],
   "source": [
    "df_malicious_domain['label'] = 1"
   ]
  },
  {
   "cell_type": "code",
   "execution_count": 10,
   "metadata": {},
   "outputs": [],
   "source": [
    "df_domain = pd.concat([df_benign_domain, df_malicious_domain], axis=0)"
   ]
  },
  {
   "cell_type": "code",
   "execution_count": 11,
   "metadata": {},
   "outputs": [],
   "source": [
    "def remove_tld(domain):\n",
    "    ext = tldextract.extract(domain)\n",
    "    if ext.subdomain != '':\n",
    "        domain = ext.subdomain + '.' + ext.domain\n",
    "    else:\n",
    "        domain = ext.domain\n",
    "    return domain"
   ]
  },
  {
   "cell_type": "code",
   "execution_count": 12,
   "metadata": {},
   "outputs": [],
   "source": [
    "df_domain['domain'] = df_domain['domain'].map(lambda x: tldextract.extract(x).domain)"
   ]
  },
  {
   "cell_type": "markdown",
   "metadata": {},
   "source": [
    "## 提取ngram特征"
   ]
  },
  {
   "cell_type": "code",
   "execution_count": 13,
   "metadata": {},
   "outputs": [],
   "source": [
    "from sklearn.feature_extraction.text import CountVectorizer"
   ]
  },
  {
   "cell_type": "code",
   "execution_count": 14,
   "metadata": {},
   "outputs": [],
   "source": [
    "domain_list = df_domain[df_domain['label'] == 0]['domain'].values.tolist()"
   ]
  },
  {
   "cell_type": "code",
   "execution_count": 15,
   "metadata": {},
   "outputs": [],
   "source": [
    "benign_text_str = '.'.join(domain_list)"
   ]
  },
  {
   "cell_type": "code",
   "execution_count": 16,
   "metadata": {},
   "outputs": [],
   "source": [
    "benign_text = re.split(r'[.-]', benign_text_str)"
   ]
  },
  {
   "cell_type": "code",
   "execution_count": 17,
   "metadata": {},
   "outputs": [],
   "source": [
    "benign_text = list(filter(lambda x: len(x) >= 3, benign_text))"
   ]
  },
  {
   "cell_type": "code",
   "execution_count": 45,
   "metadata": {},
   "outputs": [],
   "source": [
    "def get_ngram_weight_dict(benign_text):\n",
    "    cv = CountVectorizer(ngram_range = (3, 7), analyzer='char', max_features=100000)\n",
    "    cv.fit(benign_text)\n",
    "    feature_names = cv.get_feature_names()\n",
    "    benign_text_vectors = cv.transform(benign_text)\n",
    "    ngram_count = benign_text_vectors.sum(axis=0)\n",
    "    window_sizes = np.array(list(map(lambda x: len(x), feature_names)))\n",
    "    ngram_weights = np.multiply(np.log2(ngram_count), window_sizes)\n",
    "    ngram_weights = sparse.csr_matrix(ngram_weights)\n",
    "    feature_names = cv.get_feature_names()\n",
    "    ngram_weights_dict = dict()\n",
    "    for ngram, weight in zip(feature_names, ngram_weights.toarray()[0].tolist()):\n",
    "        ngram_weights_dict[ngram] = weight\n",
    "    return ngram_weights_dict"
   ]
  },
  {
   "cell_type": "code",
   "execution_count": 46,
   "metadata": {},
   "outputs": [],
   "source": [
    "ngram_weights_dict = get_ngram_weight_dict(benign_text)"
   ]
  },
  {
   "cell_type": "markdown",
   "metadata": {},
   "source": [
    "## 计算域名的信誉值"
   ]
  },
  {
   "cell_type": "code",
   "execution_count": 47,
   "metadata": {},
   "outputs": [],
   "source": [
    "def get_reputation_value(ngram_weights_dict, domain):\n",
    "    if len(domain) < 3:\n",
    "        return 1000\n",
    "    domains = re.split(r'[.-]', domain)\n",
    "    reputation = 0\n",
    "    domain_len = 0\n",
    "    for domain in domains:\n",
    "        domain_len += len(domain)\n",
    "        for window_size in range(3, 8):\n",
    "            for i in range(len(domain) - window_size + 1):\n",
    "                reputation += ngram_weights_dict.get(domain[i:i+window_size], 0)\n",
    "    reputation = reputation / domain_len\n",
    "    return reputation"
   ]
  },
  {
   "cell_type": "code",
   "execution_count": 48,
   "metadata": {},
   "outputs": [
    {
     "data": {
      "text/plain": [
       "60.98470329782399"
      ]
     },
     "execution_count": 48,
     "metadata": {},
     "output_type": "execute_result"
    }
   ],
   "source": [
    "get_reputation_value(ngram_weights_dict, 'google')"
   ]
  },
  {
   "cell_type": "code",
   "execution_count": 49,
   "metadata": {},
   "outputs": [
    {
     "data": {
      "text/plain": [
       "2.377443751081734"
      ]
     },
     "execution_count": 49,
     "metadata": {},
     "output_type": "execute_result"
    }
   ],
   "source": [
    "get_reputation_value(ngram_weights_dict, 'ta0ba0')"
   ]
  },
  {
   "cell_type": "code",
   "execution_count": 53,
   "metadata": {},
   "outputs": [
    {
     "data": {
      "text/plain": [
       "15.426971096928998"
      ]
     },
     "execution_count": 53,
     "metadata": {},
     "output_type": "execute_result"
    }
   ],
   "source": [
    "get_reputation_value(ngram_weights_dict, 'dskdjisuowerwdfskdfj000')"
   ]
  },
  {
   "cell_type": "code",
   "execution_count": 54,
   "metadata": {},
   "outputs": [
    {
     "name": "stdout",
     "output_type": "stream",
     "text": [
      "cost time : 9.624819040298462\n"
     ]
    }
   ],
   "source": [
    "start = time.time()\n",
    "df_domain['reputation'] = df_domain['domain'].map(lambda x: get_reputation_value(ngram_weights_dict, x))\n",
    "end = time.time()\n",
    "print('cost time : {}'.format(end - start))"
   ]
  },
  {
   "cell_type": "code",
   "execution_count": 55,
   "metadata": {},
   "outputs": [
    {
     "data": {
      "text/plain": [
       "count    768588.000000\n",
       "mean         62.794891\n",
       "std          73.951918\n",
       "min           0.000000\n",
       "25%          34.411518\n",
       "50%          53.056123\n",
       "75%          76.226724\n",
       "max        1000.000000\n",
       "Name: reputation, dtype: float64"
      ]
     },
     "execution_count": 55,
     "metadata": {},
     "output_type": "execute_result"
    }
   ],
   "source": [
    "df_domain[df_domain['label'] == 0]['reputation'].describe()"
   ]
  },
  {
   "cell_type": "code",
   "execution_count": 56,
   "metadata": {},
   "outputs": [
    {
     "data": {
      "text/plain": [
       "count    1712.000000\n",
       "mean       52.669588\n",
       "std        67.904200\n",
       "min         0.000000\n",
       "25%        23.658419\n",
       "50%        47.085018\n",
       "75%        67.917240\n",
       "max      1000.000000\n",
       "Name: reputation, dtype: float64"
      ]
     },
     "execution_count": 56,
     "metadata": {},
     "output_type": "execute_result"
    }
   ],
   "source": [
    "df_domain[df_domain['label'] == 1]['reputation'].describe()"
   ]
  },
  {
   "cell_type": "markdown",
   "metadata": {},
   "source": [
    "## 保存模型文件"
   ]
  },
  {
   "cell_type": "code",
   "execution_count": 57,
   "metadata": {},
   "outputs": [],
   "source": [
    "import joblib"
   ]
  },
  {
   "cell_type": "code",
   "execution_count": 58,
   "metadata": {},
   "outputs": [
    {
     "data": {
      "text/plain": [
       "['ngram_weights_dict.m']"
      ]
     },
     "execution_count": 58,
     "metadata": {},
     "output_type": "execute_result"
    }
   ],
   "source": [
    "joblib.dump(ngram_weights_dict, 'ngram_weights_dict.m', compress=4)"
   ]
  },
  {
   "cell_type": "code",
   "execution_count": null,
   "metadata": {},
   "outputs": [],
   "source": []
  }
 ],
 "metadata": {
  "kernelspec": {
   "display_name": "Python 3",
   "language": "python",
   "name": "python3"
  },
  "language_info": {
   "codemirror_mode": {
    "name": "ipython",
    "version": 3
   },
   "file_extension": ".py",
   "mimetype": "text/x-python",
   "name": "python",
   "nbconvert_exporter": "python",
   "pygments_lexer": "ipython3",
   "version": "3.6.8"
  }
 },
 "nbformat": 4,
 "nbformat_minor": 2
}
